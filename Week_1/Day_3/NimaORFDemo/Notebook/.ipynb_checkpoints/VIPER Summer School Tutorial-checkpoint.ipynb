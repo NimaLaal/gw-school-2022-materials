{
 "cells": [
  {
   "cell_type": "markdown",
   "id": "7dff02f4",
   "metadata": {},
   "source": [
    "# <center>VIPER PTA Summer School<br><br>Overlap Reduction Function Tutorial<br><br>Author: Nima Laal"
   ]
  },
  {
   "cell_type": "markdown",
   "id": "bba109a3",
   "metadata": {},
   "source": [
    "# Packages to Install..."
   ]
  },
  {
   "cell_type": "code",
   "execution_count": null,
   "id": "8b44638c",
   "metadata": {},
   "outputs": [],
   "source": [
    "#!pip install corner\n",
    "#!pip install nestle\n",
    "#!pip install scipy\n",
    "#!pip install astropy\n",
    "#!pip install sympy"
   ]
  },
  {
   "cell_type": "markdown",
   "id": "6ca1dedf",
   "metadata": {},
   "source": [
    "# Loading Packages"
   ]
  },
  {
   "cell_type": "code",
   "execution_count": null,
   "id": "b856516e",
   "metadata": {},
   "outputs": [],
   "source": [
    "import numpy as np\n",
    "from NimaDemoUtils import *\n",
    "import corner, nestle, matplotlib, warnings\n",
    "from itertools import combinations\n",
    "import matplotlib.pyplot as plt\n",
    "%load_ext autoreload\n",
    "%autoreload 2\n",
    "%matplotlib inline\n",
    "%config InlineBackend.figure_format='retina'\n",
    "plt.style.use('dark_background')\n",
    "warnings.filterwarnings('ignore')\n",
    "colors = [\"aqua\", \"tomato\", \"gold\", \"lawngreen\", \"white\", \"magenta\", \"chocolate\", \"orange\", 'green', 'gray']"
   ]
  },
  {
   "cell_type": "markdown",
   "id": "13923350",
   "metadata": {},
   "source": [
    "# <center> Section 1: The Simplest Case of a PTA!"
   ]
  },
  {
   "cell_type": "markdown",
   "id": "34cc1115",
   "metadata": {},
   "source": [
    "## Imagining a PTA"
   ]
  },
  {
   "cell_type": "code",
   "execution_count": null,
   "id": "ad5d6acd",
   "metadata": {},
   "outputs": [],
   "source": [
    "Npulsars = 50\n",
    "n_realization = 1\n",
    "seeds = np.linspace(10000, 10062300, n_realization, dtype = int)\n",
    "disttype = 'uniform'\n",
    "start_obs = 53000 #mjd units\n",
    "dur_in_year = 13\n",
    "end_obs = start_obs + dur_in_year * 365.25\n",
    "toas = np.array([np.arange(start_obs,end_obs, 30)] * Npulsars)\n",
    "toas"
   ]
  },
  {
   "cell_type": "code",
   "execution_count": null,
   "id": "428ef501",
   "metadata": {},
   "outputs": [],
   "source": [
    "lam, beta, pname, xiMat = PulsarDistMaker(Npulsars = Npulsars, \n",
    "                                          seed = seeds[0], \n",
    "                                          skyplot = True, \n",
    "                                          disttype = disttype)"
   ]
  },
  {
   "cell_type": "markdown",
   "id": "a35aa5ca",
   "metadata": {},
   "source": [
    "## Injecting a GWB"
   ]
  },
  {
   "cell_type": "code",
   "execution_count": null,
   "id": "54af233f",
   "metadata": {},
   "outputs": [],
   "source": [
    "res_gw = np.zeros((n_realization, Npulsars, len(toas[0])))\n",
    "for ii, seed in enumerate(seeds):\n",
    "    print('Making Realization {0}/{1}...'.format(ii + 1, n_realization), end = '\\r')\n",
    "    res_gw[ii,:,:] = GWBInj(Amp = 2e-15,\n",
    "           start_obs = start_obs, \n",
    "           end_obs = end_obs, \n",
    "           Npulsars = Npulsars, \n",
    "           ang = xiMat.flatten(), \n",
    "           seed = seed, \n",
    "           toas = toas)"
   ]
  },
  {
   "cell_type": "markdown",
   "id": "958e38e6",
   "metadata": {},
   "source": [
    "## Extracting the Cross Correlations"
   ]
  },
  {
   "cell_type": "markdown",
   "id": "401803ce",
   "metadata": {},
   "source": [
    "## $$\\large \\text{ORF} \\propto \\left\\langle {R_a R_b} \\right\\rangle$$"
   ]
  },
  {
   "cell_type": "markdown",
   "id": "5f7c773f",
   "metadata": {},
   "source": [
    "### Finding the Cross Indices"
   ]
  },
  {
   "cell_type": "code",
   "execution_count": null,
   "id": "029da017",
   "metadata": {
    "scrolled": true
   },
   "outputs": [],
   "source": [
    "Npairs = int(Npulsars * (Npulsars - 1)/2)\n",
    "ab = list(combinations(np.arange(0,Npulsars),2))\n",
    "ab"
   ]
  },
  {
   "cell_type": "markdown",
   "id": "7a20612c",
   "metadata": {},
   "source": [
    "### Calculating $\\left\\langle {R_i R_j} \\right\\rangle$ for Each Realization in ***Time Domain***"
   ]
  },
  {
   "cell_type": "markdown",
   "id": "49348ee6",
   "metadata": {},
   "source": [
    "$$\\large \\begin{align}\n",
    " {{\\rho }_{ab}}=&\\text{Time Mean}\\left\\{ {{R}_{i}}\\left( t \\right){{R}_{j}}\\left( t \\right) \\right\\} \\\\ \n",
    " {{\\sigma }_{ab}}=&\\text{Time STD}\\left\\{ {{R}_{i}}\\left( t \\right){{R}_{j}}\\left( t \\right) \\right\\} \\\\ \\end{align}$$\n"
   ]
  },
  {
   "cell_type": "code",
   "execution_count": null,
   "id": "e1cc4044",
   "metadata": {},
   "outputs": [],
   "source": [
    "mean_corr = np.zeros((n_realization, Npairs))\n",
    "sig_corr = np.zeros((n_realization, Npairs))\n",
    "xiab = np.zeros(Npairs); HD_sigma = np.zeros(Npairs)\n",
    "for rr in range(n_realization):\n",
    "    for kk, (a,b) in enumerate(ab):  \n",
    "        calc = res_gw[rr, a,:]*res_gw[rr, b,:]\n",
    "        mean_corr[rr,kk] = np.mean(calc)\n",
    "        sig_corr[rr,kk] = np.std(calc)\n",
    "        if rr == 0: \n",
    "            xiab[kk] = xiMat[a,b] # This line extracts the angular separation value from xiMat matrix \n",
    "##Averaging Over Different Realizations\n",
    "rho = np.mean(mean_corr,axis = 0)\n",
    "sig = np.mean(sig_corr,axis = 0)\n",
    "xi = xiab.T #transpose for the sake of plotting!"
   ]
  },
  {
   "cell_type": "markdown",
   "id": "f985d7ff",
   "metadata": {},
   "source": [
    "## Analyzing the Obtained Cross Correlation Values"
   ]
  },
  {
   "cell_type": "markdown",
   "id": "539d26f7",
   "metadata": {},
   "source": [
    "### Finding the Normalization Constant For the Best HD Fit"
   ]
  },
  {
   "cell_type": "code",
   "execution_count": null,
   "id": "4c4de3f9",
   "metadata": {},
   "outputs": [],
   "source": [
    "first_norm = 1e-15 #Making the Sampler not to deal with very small numbers!"
   ]
  },
  {
   "cell_type": "code",
   "execution_count": null,
   "id": "8cf17d9d",
   "metadata": {},
   "outputs": [],
   "source": [
    "ii = 0; flag = True; Mod = True\n",
    "while flag:\n",
    "    try:\n",
    "        print('{} Time Trying...'.format(ii+1))\n",
    "        fullmodel = CrossModel(rho/first_norm, sig/first_norm, xi, pmin=[-10], model='findhdnorm',\n",
    "                         pmax=[10])\n",
    "        fullresult = nestle.sample(fullmodel.get_loglike,\n",
    "                                   fullmodel.get_prior_transform,\n",
    "                                   ndim = 1,\n",
    "                                   npoints=600, dlogz=0.1)\n",
    "        flag = False\n",
    "    except:\n",
    "        ii += 1\n",
    "        if ii > 4: flag = False; Mod = False; print('***Modeling Failed; Plot the unbinned correlations to see why!***')\n",
    "        continue"
   ]
  },
  {
   "cell_type": "code",
   "execution_count": null,
   "id": "2b15bc36",
   "metadata": {},
   "outputs": [],
   "source": [
    "if Mod:\n",
    "    plt.figure(dpi = 140)\n",
    "    plt.hist(fullresult.samples, bins=40, weights = fullresult.weights, histtype = 'step', color = 'aqua');\n",
    "    second_norm = np.average(fullresult.samples.flatten(), weights = fullresult.weights)\n",
    "    plt.axvline(second_norm, label = 'mean = {}'.format(round(second_norm, 3)), ls = '--', color = 'tomato')\n",
    "    plt.legend()\n",
    "    plt.xlabel('Best Fit Normalization Constant\\n(Second Nromalization)')\n",
    "    plt.ylabel('PDF');\n",
    "else:\n",
    "    print('Modeling Failed')"
   ]
  },
  {
   "cell_type": "markdown",
   "id": "a66eb529",
   "metadata": {},
   "source": [
    "### Binning the Calculated Cross Correlation Values (Two Different Ways...)"
   ]
  },
  {
   "cell_type": "code",
   "execution_count": null,
   "id": "05807f65",
   "metadata": {},
   "outputs": [],
   "source": [
    "norm = first_norm * second_norm"
   ]
  },
  {
   "cell_type": "code",
   "execution_count": null,
   "id": "d86630d8",
   "metadata": {
    "scrolled": true
   },
   "outputs": [],
   "source": [
    "nbins = 13 #Used in the first way of binning. Bins' width are equally spaced. Some bins may not contain any pulsar pair if your number of pulsars is low!\n",
    "npairs = 66 #Used in the second way of binning. npairs is the number of pulsars per bin\n",
    "#xi_mean, xi_err, rho_avg, sig_avg = binned_corr_Maker_forced(xi, rho/norm, sig/norm, nbins = nbins)\n",
    "xi_mean, xi_err, rho_avg, sig_avg = binned_corr_Maker_forced(xi, rho/norm, sig/norm, npairs = 66)"
   ]
  },
  {
   "cell_type": "markdown",
   "id": "981decf8",
   "metadata": {},
   "source": [
    "### Finally, Plotting the Cross Correlation Values"
   ]
  },
  {
   "cell_type": "markdown",
   "id": "82f18c2f",
   "metadata": {},
   "source": [
    "#### Unbinned Case (useful for when you only have one realization)"
   ]
  },
  {
   "cell_type": "code",
   "execution_count": null,
   "id": "a8257d98",
   "metadata": {},
   "outputs": [],
   "source": [
    "plt.figure(dpi = 140)\n",
    "plt.errorbar(xi*180/np.pi, rho/norm, yerr=sig/norm, marker='o', ls='', label = 'Estimated Correlations',alpha = .6,\n",
    "                            color='aqua', capsize=4, elinewidth=1.2)\n",
    "plt.ylabel('Normalized\\nCross Correlation Values')\n",
    "plt.xlabel('Angular Separation');\n",
    "plt.title('Number of Pulsars : {0}\\n Distribution Type : {1}\\n Number of Realizations : {2}'.format(Npulsars, disttype, n_realization))\n",
    "plt.tight_layout()\n",
    "plt.show()"
   ]
  },
  {
   "cell_type": "markdown",
   "id": "ec264003",
   "metadata": {},
   "source": [
    "#### Binned Case"
   ]
  },
  {
   "cell_type": "code",
   "execution_count": null,
   "id": "67ebdbb2",
   "metadata": {},
   "outputs": [],
   "source": [
    "angs = np.linspace(0.001,np.pi,100)\n",
    "rho_theo = np.zeros(len(angs)); sig_theo = np.zeros(len(angs))\n",
    "for ii, ang in enumerate(angs):\n",
    "    rho_theo[ii] = HD(ang)\n",
    "    sig_theo[ii] = np.sqrt(0.5 * (HD(ang)**2 + 4*HD(.0000001)))"
   ]
  },
  {
   "cell_type": "code",
   "execution_count": null,
   "id": "71034df2",
   "metadata": {
    "scrolled": false
   },
   "outputs": [],
   "source": [
    "plt.figure(figsize = (12,6), dpi = 140)\n",
    "plt.errorbar(xi_mean*180/np.pi, rho_avg, xerr=xi_err*180/np.pi, yerr=sig_avg, marker='o', ls='', label = 'Estimated Correlations',alpha = .6,\n",
    "                            color='aqua', capsize=4, elinewidth=1.2)\n",
    "\n",
    "if Mod:\n",
    "    plt.plot(angs * 180/np.pi, HD(angs), lw = 2, color = 'tomato', label = 'Theoretical HD')\n",
    "    plt.plot(angs * 180/np.pi, rho_theo - sig_theo, ls = '--', lw = 2, color = 'tomato', label = 'Lower Bound Theoretical HD')\n",
    "    plt.plot(angs * 180/np.pi, rho_theo + sig_theo, ls = '--', lw = 2, color = 'tomato', label = 'Upper Bound Theoretical HD')\n",
    "    #plt.errorbar(xi_mean*180/np.pi, rho_avg_HD, xerr=xi_err*180/np.pi, yerr=sig_avg_HD, marker='o', ls='', label = 'Theoretical Binned HD Correlations',alpha = .6,\n",
    "     #                       color='tomato', capsize=4, elinewidth=1.2)\n",
    "plt.legend()\n",
    "plt.ylabel('Normalized ORF')\n",
    "plt.xlabel('Angular Separation');\n",
    "plt.title('Number of Pulsars : {0}\\n Distribution Type : {1}\\n Number of Realizations : {2}'.format(Npulsars, disttype, n_realization))\n",
    "plt.tight_layout()\n",
    "plt.savefig('../Image/Corr_{0}_{1}_{2}.png'.format(Npulsars, disttype, n_realization), dpi = 300)"
   ]
  },
  {
   "cell_type": "markdown",
   "id": "6800a4b8",
   "metadata": {},
   "source": [
    "## Does the above plot look good to you (can you bin the data differently and get a better looking plot)? Is HD curve (not your calculated cross correlations) an exact line with no uncertainity? What is the uncertainity on HD curve?"
   ]
  },
  {
   "cell_type": "markdown",
   "id": "32ad3f4c",
   "metadata": {},
   "source": [
    "### Parameterizing HD"
   ]
  },
  {
   "cell_type": "code",
   "execution_count": null,
   "id": "b01b429a",
   "metadata": {},
   "outputs": [],
   "source": [
    "def gt( x, tau, mono ) :\n",
    "    cos_ang = np.cos(x)\n",
    "    k = 1/2*(1-cos_ang)\n",
    "    return 1/8 * (3+cos_ang) + (1-tau)*3/4*k*np.log(k) + mono"
   ]
  },
  {
   "cell_type": "code",
   "execution_count": null,
   "id": "67fffc5d",
   "metadata": {},
   "outputs": [],
   "source": [
    "taus = [-1.5, -1, 0, .5, 1.5]\n",
    "ang = np.linspace(0.001,np.pi,100)\n",
    "plt.figure(dpi = 140)\n",
    "for ii, tau in enumerate(taus):\n",
    "    if tau == -1: label = 'tau = -1 (HD)'\n",
    "    else: label = 'tau = {}'.format(tau)\n",
    "    plt.plot(ang, gt(ang, tau, 0),lw = 3, label = label, color = colors[ii])\n",
    "plt.ylabel('Parameterized ORF')\n",
    "plt.xlabel('Angular Separation');\n",
    "plt.legend()\n",
    "plt.tight_layout()"
   ]
  },
  {
   "cell_type": "markdown",
   "id": "0df5aa36",
   "metadata": {},
   "source": [
    "## Find the Best Fit!"
   ]
  },
  {
   "cell_type": "code",
   "execution_count": null,
   "id": "28699a24",
   "metadata": {},
   "outputs": [],
   "source": [
    "fullmodel = CrossModel(rho/norm, sig/norm, xi, pmin=[-10, -2], model='gt',\n",
    "                 pmax=[10, 2])\n",
    "fullresult = nestle.sample(fullmodel.get_loglike,\n",
    "                           fullmodel.get_prior_transform,\n",
    "                           ndim = 2,\n",
    "                           npoints=600, dlogz=0.1)"
   ]
  },
  {
   "cell_type": "code",
   "execution_count": null,
   "id": "536f7388",
   "metadata": {},
   "outputs": [],
   "source": [
    "figg, ax = plt.subplots(nrows = 2, ncols = 2, figsize = (5,5), dpi = 140)\n",
    "fig = corner.corner(fullresult.samples, bins=40,\n",
    "                 labels = ['norm', 'tau'], color = 'aqua', truths = [mean, -1], truth_color = 'tomato',fig = figg,\n",
    "                 show_titles = True, weights=fullresult.weights)\n",
    "plt.savefig('../Image/CornerCorr_{0}_{1}_{2}.png'.format(Npulsars, disttype, n_realization), dpi = 300)"
   ]
  },
  {
   "cell_type": "markdown",
   "id": "c24ff427",
   "metadata": {},
   "source": [
    "## Plot this best fit!"
   ]
  },
  {
   "cell_type": "markdown",
   "id": "1eaf3e58",
   "metadata": {},
   "source": [
    "# ***Question 1***:  Do we have more than 1 realization in reality? How is it possible to immprove the detectability of HD curve?"
   ]
  },
  {
   "cell_type": "markdown",
   "id": "789506f0",
   "metadata": {},
   "source": [
    "# ***Question 2***: keeping the number of realizations the same, what affects the detectability of correlations the most?"
   ]
  },
  {
   "cell_type": "markdown",
   "id": "d868c97a",
   "metadata": {},
   "source": [
    "# <center> Section 2: Do You Know Your Integrals?"
   ]
  },
  {
   "cell_type": "code",
   "execution_count": null,
   "id": "6122e45d",
   "metadata": {},
   "outputs": [],
   "source": [
    "from sympy import *\n",
    "import sympy"
   ]
  },
  {
   "cell_type": "markdown",
   "id": "83cd8641",
   "metadata": {},
   "source": [
    "## The Coordinate System"
   ]
  },
  {
   "cell_type": "markdown",
   "id": "137d5db1",
   "metadata": {},
   "source": [
    "![alt text](../Image/coordinate.png \"The Coordinate System\")"
   ]
  },
  {
   "cell_type": "markdown",
   "id": "cc4c0ad9",
   "metadata": {},
   "source": [
    "## Setting up the Problem Using Sympy"
   ]
  },
  {
   "cell_type": "code",
   "execution_count": null,
   "id": "42cfb291",
   "metadata": {},
   "outputs": [],
   "source": [
    "## t is theta, p is phi, and gamma is gamma (angular separation between two pulsars)\n",
    "t, p, gamma = sympy.symbols('theta phi gamma')\n",
    "##The Most General Z-axis (***it is the same as the negative of k_hat from the lecture notes***)\n",
    "omega = [sin(t) * cos(p), sin(t) * sin(p), cos(t)]\n",
    "##The Most General X-axis\n",
    "m = [cos(t)*cos(p),cos(t)*sin(p),-sin(t)] \n",
    "##The Most General Y-axis\n",
    "n = [-sin(p),cos(p),0]\n",
    "##Location of Pulsar a\n",
    "u_a = [0,0,1]\n",
    "##Location of Pulsar b\n",
    "u_b = [sin(gamma),0,cos(gamma)]"
   ]
  },
  {
   "cell_type": "markdown",
   "id": "1beda12b",
   "metadata": {},
   "source": [
    "## Do you remember this?"
   ]
  },
  {
   "cell_type": "markdown",
   "id": "ddde7117",
   "metadata": {},
   "source": [
    "$$\\large \\begin{align}\n",
    "  & R_{a}^{A}\\left( f,\\hat{k} \\right)=\\frac{1}{2}\\frac{u_{a}^{i}u_{a}^{j}}{1-\\hat{k}\\cdot {{{\\hat{u}}}_{a}}}e_{ij}^{A}\\left( {\\hat{k}} \\right)\\times \\left[ ... \\right] \\\\ \n",
    " & R_{b}^{A}\\left( f,\\hat{k} \\right)=\\frac{1}{2}\\frac{u_{b}^{i}u_{b}^{j}}{1-\\hat{k}\\cdot {{{\\hat{u}}}_{b}}}e_{ij}^{A}\\left( {\\hat{k}} \\right)\\times \\left[ ... \\right] \\\\ \n",
    "\\end{align}\n",
    "$$"
   ]
  },
  {
   "cell_type": "markdown",
   "id": "4ea3c5a9",
   "metadata": {},
   "source": [
    "## Make some substitutions"
   ]
  },
  {
   "cell_type": "markdown",
   "id": "fc58c30e",
   "metadata": {},
   "source": [
    "$$\\large \\begin{align}\n",
    "  & B=\\frac{1}{2}\\frac{u_{a}^{i}u_{a}^{j}}{1-\\hat{k}\\cdot {{{\\hat{u}}}_{a}}}e_{ij}^{A}\\left( {\\hat{k}} \\right) \\\\ \n",
    " & C=\\frac{1}{2}\\frac{u_{b}^{i}u_{b}^{j}}{1-\\hat{k}\\cdot {{{\\hat{u}}}_{b}}}e_{ij}^{A}\\left( {\\hat{k}} \\right) \\\\ \n",
    "\\end{align}\n",
    "$$"
   ]
  },
  {
   "cell_type": "markdown",
   "id": "1fe3d811",
   "metadata": {},
   "source": [
    "## Choose your Polarization Mode!"
   ]
  },
  {
   "cell_type": "markdown",
   "id": "72c62e45",
   "metadata": {},
   "source": [
    "![alt text](../Image/PlusPol.gif \"PlusPol\")"
   ]
  },
  {
   "cell_type": "markdown",
   "id": "9db83277",
   "metadata": {},
   "source": [
    "![alt text](../Image/CrossPol.gif \"CrossPol\")"
   ]
  },
  {
   "cell_type": "markdown",
   "id": "4130bce9",
   "metadata": {},
   "source": [
    "![alt text](../Image/BRPol.gif \"LongPol\")"
   ]
  },
  {
   "cell_type": "markdown",
   "id": "c1eac32d",
   "metadata": {},
   "source": [
    "![alt text](../Image/LongPol.gif \"LongPol\")"
   ]
  },
  {
   "cell_type": "markdown",
   "id": "c665fc60",
   "metadata": {},
   "source": [
    "![alt text](../Image/XPol.gif \"xPol\")"
   ]
  },
  {
   "cell_type": "markdown",
   "id": "9096cb09",
   "metadata": {},
   "source": [
    "![alt text](../Image/yPol.gif \"yPol\")"
   ]
  },
  {
   "cell_type": "code",
   "execution_count": null,
   "id": "b35c0059",
   "metadata": {},
   "outputs": [],
   "source": [
    "eA = zeros(3,3)\n",
    "ii = 0\n",
    "for i in range (3):\n",
    "    for j in range (3):\n",
    "        #eA[ii] = m[i] * m[j] - n[i] * n[j] # Plus Mode\n",
    "        #eA[ii] = m[i] * n[j] + m[j] * n[i] # Cross Mode\n",
    "        eA[ii] = m[i] * m[j] + n[i] * n[j] #Breathing Mode\n",
    "        #eA[ii] = m[i] * omega[j] + omega[i] * m[j] #Vector Longitudenial Mode 1\n",
    "        #eA[ii] = n[i] * omega[j] + omega[i] * n[j] #Vector Longitudenial Mode 2\n",
    "        #eA[ii] = omega[i] * omega[j] #Scalar Longitudenial\n",
    "        ii = ii+1\n",
    "        \n",
    "B = zeros(3,3)\n",
    "ii = 0\n",
    "for i in range (3):\n",
    "    for j in range (3):\n",
    "        B[ii] = (u_a[i] * u_a[j]) * sympy.Rational(1,2) * 1/(1 + np.dot(u_a,omega)) * eA[ii]\n",
    "        ii = ii+1\n",
    "\n",
    "C = zeros(3,3)\n",
    "ii = 0\n",
    "for i in range (3):\n",
    "    for j in range (3):\n",
    "        C[ii] = (u_b[i] * u_b[j]) * sympy.Rational(1,2) * 1/(1 + np.dot(u_b,omega)) * eA[ii]\n",
    "        ii = ii+1\n",
    "        \n",
    "D = factor(np.sum(B) * np.sum(C))\n",
    "print('The Integrand is: ')\n",
    "D"
   ]
  },
  {
   "cell_type": "markdown",
   "id": "8ed5485c",
   "metadata": {},
   "source": [
    "## Integrating the above over a unit sphere gives you your ORF! Can you simplify the integrands further?"
   ]
  },
  {
   "cell_type": "code",
   "execution_count": null,
   "id": "a10bf650",
   "metadata": {},
   "outputs": [],
   "source": [
    "eA"
   ]
  },
  {
   "cell_type": "code",
   "execution_count": null,
   "id": "6073d62d",
   "metadata": {},
   "outputs": [],
   "source": [
    "B"
   ]
  },
  {
   "cell_type": "code",
   "execution_count": null,
   "id": "5030f03f",
   "metadata": {},
   "outputs": [],
   "source": [
    "C"
   ]
  },
  {
   "cell_type": "markdown",
   "id": "61c09d1c",
   "metadata": {},
   "source": [
    "# ***Question 3***:  Try finding the integrand for each of the given polarization modes. Do you see anything unusual? Can you explain why some modes give an ORF of zero?"
   ]
  },
  {
   "cell_type": "markdown",
   "id": "885ef45e",
   "metadata": {},
   "source": []
  },
  {
   "cell_type": "markdown",
   "id": "a2c44bf7",
   "metadata": {},
   "source": [
    "# ***Question 4***:  Can you do the integral for all of the given polarizations? Which one do you think is the easiest to do?"
   ]
  },
  {
   "cell_type": "code",
   "execution_count": null,
   "id": "9300fb1f",
   "metadata": {},
   "outputs": [],
   "source": []
  },
  {
   "cell_type": "code",
   "execution_count": null,
   "id": "676ad31a",
   "metadata": {},
   "outputs": [],
   "source": []
  }
 ],
 "metadata": {
  "kernelspec": {
   "display_name": "Python 3 (ipykernel)",
   "language": "python",
   "name": "python3"
  },
  "language_info": {
   "codemirror_mode": {
    "name": "ipython",
    "version": 3
   },
   "file_extension": ".py",
   "mimetype": "text/x-python",
   "name": "python",
   "nbconvert_exporter": "python",
   "pygments_lexer": "ipython3",
   "version": "3.9.13"
  }
 },
 "nbformat": 4,
 "nbformat_minor": 5
}
